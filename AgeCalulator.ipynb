{
  "nbformat": 4,
  "nbformat_minor": 0,
  "metadata": {
    "colab": {
      "provenance": []
    },
    "kernelspec": {
      "name": "python3",
      "display_name": "Python 3"
    },
    "language_info": {
      "name": "python"
    }
  },
  "cells": [
    {
      "cell_type": "markdown",
      "source": [
        "#A calculator that tells how long you have been here."
      ],
      "metadata": {
        "id": "jnn4B4oZB05r"
      }
    },
    {
      "cell_type": "code",
      "execution_count": null,
      "metadata": {
        "id": "NFcdnDXfBwfb"
      },
      "outputs": [],
      "source": [
        "from datetime import datetime\n",
        "now = datetime.now()\n",
        "print(\"now =\", now)\n",
        "birth_date_str = input(\"Enter your date of birth (YYYY-MM-DD): \")\n",
        "birth_date = datetime.strptime(birth_date_str, \"%Y-%m-%d\")\n",
        "print(\"birth_date =\", birth_date)\n",
        "age = now - birth_date\n",
        "print(\"age =\", age)\n",
        "delta = now - birth_date\n",
        "years_lived = now.year - birth_date.year\n",
        "if (now.month, now.day) < (birth_date.month, birth_date.day):\n",
        "  years_lived -= 1\n",
        "print(\"years_lived =\", years_lived)\n",
        "\n",
        "days_lived = delta.days\n",
        "weeks_lived = days_lived // 7\n",
        "months_lived = (now.year - birth_date.year) * 12 + now.month - birth_date.month\n",
        "\n",
        "print(\"days_lived =\", days_lived)\n",
        "print(\"weeks_lived =\", weeks_lived)\n",
        "print(\"months_lived =\", months_lived)"
      ]
    }
  ]
}